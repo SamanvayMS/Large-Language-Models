{
 "cells": [
  {
   "cell_type": "markdown",
   "metadata": {},
   "source": [
    "# Tokenization"
   ]
  },
  {
   "cell_type": "code",
   "execution_count": 1,
   "metadata": {},
   "outputs": [
    {
     "name": "stdout",
     "output_type": "stream",
     "text": [
      "---\n",
      "The Icelandic horse is a breed of horse developed in Iceland. Developed from ponies brought to Iceland by Norse settlers in the 9th and 10th centuries, the breed is mentioned in Icelandic literature and historical records. They are long-lived, hardy, and have few diseases in their country. In addition to the gaits typical of other horse breeds, many Icelandic horses can also do the tölt (pictured) and the flying pace. The only breed of horse in Iceland, sizable populations exist in Europe and North America. They are used for sheepherding work in Iceland, leisure, showing, and racing. Selective breeding and natural selection with the Icelandic climate developed them into their current form. In the 1780s, much of the breed was killed after a volcanic eruption at Laki. The first breed society for the Icelandic horse was created in Iceland in 1904; the breed is now represented by organizations in 19 nations, under the auspices of the International Federation of Icelandic Horse Associations.\n",
      "length: 1001\n",
      "---\n",
      "[84, 104, 101, 32, 73, 99, 101, 108, 97, 110, 100, 105, 99, 32, 104, 111, 114, 115, 101, 32, 105, 115, 32, 97, 32, 98, 114, 101, 101, 100, 32, 111, 102, 32, 104, 111, 114, 115, 101, 32, 100, 101, 118, 101, 108, 111, 112, 101, 100, 32, 105, 110, 32, 73, 99, 101, 108, 97, 110, 100, 46, 32, 68, 101, 118, 101, 108, 111, 112, 101, 100, 32, 102, 114, 111, 109, 32, 112, 111, 110, 105, 101, 115, 32, 98, 114, 111, 117, 103, 104, 116, 32, 116, 111, 32, 73, 99, 101, 108, 97, 110, 100, 32, 98, 121, 32, 78, 111, 114, 115, 101, 32, 115, 101, 116, 116, 108, 101, 114, 115, 32, 105, 110, 32, 116, 104, 101, 32, 57, 116, 104, 32, 97, 110, 100, 32, 49, 48, 116, 104, 32, 99, 101, 110, 116, 117, 114, 105, 101, 115, 44, 32, 116, 104, 101, 32, 98, 114, 101, 101, 100, 32, 105, 115, 32, 109, 101, 110, 116, 105, 111, 110, 101, 100, 32, 105, 110, 32, 73, 99, 101, 108, 97, 110, 100, 105, 99, 32, 108, 105, 116, 101, 114, 97, 116, 117, 114, 101, 32, 97, 110, 100, 32, 104, 105, 115, 116, 111, 114, 105, 99, 97, 108, 32, 114, 101, 99, 111, 114, 100, 115, 46, 32, 84, 104, 101, 121, 32, 97, 114, 101, 32, 108, 111, 110, 103, 45, 108, 105, 118, 101, 100, 44, 32, 104, 97, 114, 100, 121, 44, 32, 97, 110, 100, 32, 104, 97, 118, 101, 32, 102, 101, 119, 32, 100, 105, 115, 101, 97, 115, 101, 115, 32, 105, 110, 32, 116, 104, 101, 105, 114, 32, 99, 111, 117, 110, 116, 114, 121, 46, 32, 73, 110, 32, 97, 100, 100, 105, 116, 105, 111, 110, 32, 116, 111, 32, 116, 104, 101, 32, 103, 97, 105, 116, 115, 32, 116, 121, 112, 105, 99, 97, 108, 32, 111, 102, 32, 111, 116, 104, 101, 114, 32, 104, 111, 114, 115, 101, 32, 98, 114, 101, 101, 100, 115, 44, 32, 109, 97, 110, 121, 32, 73, 99, 101, 108, 97, 110, 100, 105, 99, 32, 104, 111, 114, 115, 101, 115, 32, 99, 97, 110, 32, 97, 108, 115, 111, 32, 100, 111, 32, 116, 104, 101, 32, 116, 195, 182, 108, 116, 32, 40, 112, 105, 99, 116, 117, 114, 101, 100, 41, 32, 97, 110, 100, 32, 116, 104, 101, 32, 102, 108, 121, 105, 110, 103, 32, 112, 97, 99, 101, 46, 32, 84, 104, 101, 32, 111, 110, 108, 121, 32, 98, 114, 101, 101, 100, 32, 111, 102, 32, 104, 111, 114, 115, 101, 32, 105, 110, 32, 73, 99, 101, 108, 97, 110, 100, 44, 32, 115, 105, 122, 97, 98, 108, 101, 32, 112, 111, 112, 117, 108, 97, 116, 105, 111, 110, 115, 32, 101, 120, 105, 115, 116, 32, 105, 110, 32, 69, 117, 114, 111, 112, 101, 32, 97, 110, 100, 32, 78, 111, 114, 116, 104, 32, 65, 109, 101, 114, 105, 99, 97, 46, 32, 84, 104, 101, 121, 32, 97, 114, 101, 32, 117, 115, 101, 100, 32, 102, 111, 114, 32, 115, 104, 101, 101, 112, 104, 101, 114, 100, 105, 110, 103, 32, 119, 111, 114, 107, 32, 105, 110, 32, 73, 99, 101, 108, 97, 110, 100, 44, 32, 108, 101, 105, 115, 117, 114, 101, 44, 32, 115, 104, 111, 119, 105, 110, 103, 44, 32, 97, 110, 100, 32, 114, 97, 99, 105, 110, 103, 46, 32, 83, 101, 108, 101, 99, 116, 105, 118, 101, 32, 98, 114, 101, 101, 100, 105, 110, 103, 32, 97, 110, 100, 32, 110, 97, 116, 117, 114, 97, 108, 32, 115, 101, 108, 101, 99, 116, 105, 111, 110, 32, 119, 105, 116, 104, 32, 116, 104, 101, 32, 73, 99, 101, 108, 97, 110, 100, 105, 99, 32, 99, 108, 105, 109, 97, 116, 101, 32, 100, 101, 118, 101, 108, 111, 112, 101, 100, 32, 116, 104, 101, 109, 32, 105, 110, 116, 111, 32, 116, 104, 101, 105, 114, 32, 99, 117, 114, 114, 101, 110, 116, 32, 102, 111, 114, 109, 46, 32, 73, 110, 32, 116, 104, 101, 32, 49, 55, 56, 48, 115, 44, 32, 109, 117, 99, 104, 32, 111, 102, 32, 116, 104, 101, 32, 98, 114, 101, 101, 100, 32, 119, 97, 115, 32, 107, 105, 108, 108, 101, 100, 32, 97, 102, 116, 101, 114, 32, 97, 32, 118, 111, 108, 99, 97, 110, 105, 99, 32, 101, 114, 117, 112, 116, 105, 111, 110, 32, 97, 116, 32, 76, 97, 107, 105, 46, 32, 84, 104, 101, 32, 102, 105, 114, 115, 116, 32, 98, 114, 101, 101, 100, 32, 115, 111, 99, 105, 101, 116, 121, 32, 102, 111, 114, 32, 116, 104, 101, 32, 73, 99, 101, 108, 97, 110, 100, 105, 99, 32, 104, 111, 114, 115, 101, 32, 119, 97, 115, 32, 99, 114, 101, 97, 116, 101, 100, 32, 105, 110, 32, 73, 99, 101, 108, 97, 110, 100, 32, 105, 110, 32, 49, 57, 48, 52, 59, 32, 116, 104, 101, 32, 98, 114, 101, 101, 100, 32, 105, 115, 32, 110, 111, 119, 32, 114, 101, 112, 114, 101, 115, 101, 110, 116, 101, 100, 32, 98, 121, 32, 111, 114, 103, 97, 110, 105, 122, 97, 116, 105, 111, 110, 115, 32, 105, 110, 32, 49, 57, 32, 110, 97, 116, 105, 111, 110, 115, 44, 32, 117, 110, 100, 101, 114, 32, 116, 104, 101, 32, 97, 117, 115, 112, 105, 99, 101, 115, 32, 111, 102, 32, 116, 104, 101, 32, 73, 110, 116, 101, 114, 110, 97, 116, 105, 111, 110, 97, 108, 32, 70, 101, 100, 101, 114, 97, 116, 105, 111, 110, 32, 111, 102, 32, 73, 99, 101, 108, 97, 110, 100, 105, 99, 32, 72, 111, 114, 115, 101, 32, 65, 115, 115, 111, 99, 105, 97, 116, 105, 111, 110, 115, 46]\n",
      "length: 1002\n"
     ]
    }
   ],
   "source": [
    "# text from https://www.reedbeta.com/blog/programmers-intro-to-unicode/\n",
    "text = \"The Icelandic horse is a breed of horse developed in Iceland. Developed from ponies brought to Iceland by Norse settlers in the 9th and 10th centuries, the breed is mentioned in Icelandic literature and historical records. They are long-lived, hardy, and have few diseases in their country. In addition to the gaits typical of other horse breeds, many Icelandic horses can also do the tölt (pictured) and the flying pace. The only breed of horse in Iceland, sizable populations exist in Europe and North America. They are used for sheepherding work in Iceland, leisure, showing, and racing. Selective breeding and natural selection with the Icelandic climate developed them into their current form. In the 1780s, much of the breed was killed after a volcanic eruption at Laki. The first breed society for the Icelandic horse was created in Iceland in 1904; the breed is now represented by organizations in 19 nations, under the auspices of the International Federation of Icelandic Horse Associations.\"\n",
    "tokens = text.encode(\"utf-8\") # raw bytes\n",
    "tokens = list(map(int, tokens)) # convert to a list of integers in range 0..255 for convenience\n",
    "print('---')\n",
    "print(text)\n",
    "print(\"length:\", len(text))\n",
    "print('---')\n",
    "print(tokens)\n",
    "print(\"length:\", len(tokens))"
   ]
  },
  {
   "cell_type": "code",
   "execution_count": 12,
   "metadata": {},
   "outputs": [
    {
     "name": "stdout",
     "output_type": "stream",
     "text": [
      "[(30, (101, 32)), (23, (104, 101)), (23, (100, 32)), (22, (97, 110)), (20, (116, 104)), (19, (110, 100)), (19, (101, 100)), (19, (32, 116)), (18, (114, 101)), (17, (110, 32)), (16, (111, 114)), (16, (105, 110)), (16, (101, 108)), (16, (32, 97)), (14, (115, 101)), (14, (99, 101)), (14, (32, 105)), (14, (32, 73)), (13, (115, 32)), (13, (111, 110)), (12, (108, 97)), (12, (105, 99)), (11, (116, 105)), (11, (97, 116)), (11, (73, 99)), (11, (32, 98)), (10, (114, 115)), (10, (105, 111)), (10, (101, 114)), (10, (100, 105)), (10, (44, 32)), (9, (101, 101)), (9, (98, 114)), (9, (32, 111)), (9, (32, 104)), (8, (46, 32)), (7, (121, 32)), (7, (117, 114)), (7, (114, 32)), (7, (110, 116)), (7, (105, 115)), (7, (104, 111)), (7, (99, 32)), (7, (32, 102)), (6, (118, 101)), (6, (116, 101)), (6, (116, 32)), (6, (111, 102)), (6, (110, 103)), (6, (108, 101)), (6, (102, 32)), (6, (101, 115)), (6, (32, 115)), (6, (32, 99)), (5, (111, 112)), (5, (111, 32)), (5, (104, 32)), (5, (99, 97)), (5, (97, 108)), (5, (84, 104)), (4, (116, 117)), (4, (116, 111)), (4, (115, 44)), (4, (114, 97)), (4, (112, 101)), (4, (110, 115)), (4, (110, 97)), (4, (108, 111)), (4, (108, 32)), (4, (105, 116)), (4, (101, 110)), (4, (100, 101)), (4, (32, 119)), (4, (32, 100)), (4, (32, 84)), (4, (32, 49)), (3, (115, 116)), (3, (115, 111)), (3, (114, 111)), (3, (114, 105)), (3, (114, 100)), (3, (112, 105)), (3, (110, 105)), (3, (108, 105)), (3, (105, 114)), (3, (105, 101)), (3, (103, 32)), (3, (102, 111)), (3, (101, 118)), (3, (101, 105)), (3, (101, 99)), (3, (100, 44)), (3, (99, 116)), (3, (99, 105)), (3, (97, 115)), (3, (97, 114)), (3, (73, 110)), (3, (32, 114)), (3, (32, 112)), (3, (32, 110)), (3, (32, 109)), (3, (32, 108)), (2, (122, 97)), (2, (119, 105)), (2, (119, 97)), (2, (119, 32)), (2, (117, 115)), (2, (117, 110)), (2, (116, 121)), (2, (115, 104)), (2, (115, 46)), (2, (112, 111)), (2, (111, 119)), (2, (111, 117)), (2, (111, 99)), (2, (109, 101)), (2, (109, 97)), (2, (109, 32)), (2, (108, 121)), (2, (107, 105)), (2, (105, 122)), (2, (105, 118)), (2, (104, 97)), (2, (103, 97)), (2, (101, 121)), (2, (101, 116)), (2, (101, 112)), (2, (101, 97)), (2, (100, 115)), (2, (99, 111)), (2, (98, 121)), (2, (97, 99)), (2, (97, 32)), (2, (78, 111)), (2, (49, 57)), (2, (32, 117)), (2, (32, 101)), (2, (32, 78)), (2, (32, 65)), (1, (195, 182)), (1, (182, 108)), (1, (121, 112)), (1, (121, 105)), (1, (121, 46)), (1, (121, 44)), (1, (120, 105)), (1, (119, 111)), (1, (118, 111)), (1, (117, 112)), (1, (117, 108)), (1, (117, 103)), (1, (117, 99)), (1, (116, 195)), (1, (116, 116)), (1, (116, 115)), (1, (116, 114)), (1, (116, 108)), (1, (115, 117)), (1, (115, 115)), (1, (115, 112)), (1, (115, 105)), (1, (114, 121)), (1, (114, 117)), (1, (114, 116)), (1, (114, 114)), (1, (114, 110)), (1, (114, 109)), (1, (114, 107)), (1, (114, 103)), (1, (112, 117)), (1, (112, 116)), (1, (112, 114)), (1, (112, 104)), (1, (112, 97)), (1, (111, 116)), (1, (111, 109)), (1, (111, 108)), (1, (110, 121)), (1, (110, 111)), (1, (110, 108)), (1, (110, 101)), (1, (109, 117)), (1, (109, 46)), (1, (108, 116)), (1, (108, 115)), (1, (108, 108)), (1, (108, 99)), (1, (107, 32)), (1, (105, 109)), (1, (105, 108)), (1, (105, 97)), (1, (105, 46)), (1, (104, 116)), (1, (104, 105)), (1, (103, 104)), (1, (103, 46)), (1, (103, 45)), (1, (103, 44)), (1, (102, 116)), (1, (102, 114)), (1, (102, 108)), (1, (102, 105)), (1, (102, 101)), (1, (101, 120)), (1, (101, 119)), (1, (101, 109)), (1, (101, 46)), (1, (101, 44)), (1, (100, 121)), (1, (100, 111)), (1, (100, 100)), (1, (100, 46)), (1, (100, 41)), (1, (99, 117)), (1, (99, 114)), (1, (99, 108)), (1, (99, 104)), (1, (98, 108)), (1, (97, 118)), (1, (97, 117)), (1, (97, 107)), (1, (97, 105)), (1, (97, 102)), (1, (97, 100)), (1, (97, 98)), (1, (97, 46)), (1, (83, 101)), (1, (76, 97)), (1, (72, 111)), (1, (70, 101)), (1, (69, 117)), (1, (68, 101)), (1, (65, 115)), (1, (65, 109)), (1, (59, 32)), (1, (57, 116)), (1, (57, 48)), (1, (57, 32)), (1, (56, 48)), (1, (55, 56)), (1, (52, 59)), (1, (49, 55)), (1, (49, 48)), (1, (48, 116)), (1, (48, 115)), (1, (48, 52)), (1, (45, 108)), (1, (41, 32)), (1, (40, 112)), (1, (32, 118)), (1, (32, 107)), (1, (32, 103)), (1, (32, 83)), (1, (32, 76)), (1, (32, 72)), (1, (32, 70)), (1, (32, 69)), (1, (32, 68)), (1, (32, 57)), (1, (32, 40))]\n"
     ]
    }
   ],
   "source": [
    "def get_stats(ids):\n",
    "    stats = {}\n",
    "    for pair in zip(ids, ids[1:]):\n",
    "        stats[pair] = stats.get(pair, 0) + 1\n",
    "    return stats\n",
    "\n",
    "stats = get_stats(tokens)\n",
    "# print(sorted(((v,k) for k,v in stats.items()),reverse=True))"
   ]
  },
  {
   "cell_type": "code",
   "execution_count": 13,
   "metadata": {},
   "outputs": [
    {
     "data": {
      "text/plain": [
       "('e', ' ')"
      ]
     },
     "execution_count": 13,
     "metadata": {},
     "output_type": "execute_result"
    }
   ],
   "source": [
    "chr(101), chr(32)"
   ]
  },
  {
   "cell_type": "code",
   "execution_count": 14,
   "metadata": {},
   "outputs": [
    {
     "data": {
      "text/plain": [
       "(101, 32)"
      ]
     },
     "execution_count": 14,
     "metadata": {},
     "output_type": "execute_result"
    }
   ],
   "source": [
    "top_pair = max(stats, key=stats.get)\n",
    "top_pair"
   ]
  },
  {
   "cell_type": "code",
   "execution_count": 16,
   "metadata": {},
   "outputs": [
    {
     "name": "stdout",
     "output_type": "stream",
     "text": [
      "[84, 104, 256, 73, 99, 101, 108, 97, 110, 100, 105, 99, 32, 104, 111, 114, 115, 256, 105, 115, 32, 97, 32, 98, 114, 101, 101, 100, 32, 111, 102, 32, 104, 111, 114, 115, 256, 100, 101, 118, 101, 108, 111, 112, 101, 100, 32, 105, 110, 32, 73, 99, 101, 108, 97, 110, 100, 46, 32, 68, 101, 118, 101, 108, 111, 112, 101, 100, 32, 102, 114, 111, 109, 32, 112, 111, 110, 105, 101, 115, 32, 98, 114, 111, 117, 103, 104, 116, 32, 116, 111, 32, 73, 99, 101, 108, 97, 110, 100, 32, 98, 121, 32, 78, 111, 114, 115, 256, 115, 101, 116, 116, 108, 101, 114, 115, 32, 105, 110, 32, 116, 104, 256, 57, 116, 104, 32, 97, 110, 100, 32, 49, 48, 116, 104, 32, 99, 101, 110, 116, 117, 114, 105, 101, 115, 44, 32, 116, 104, 256, 98, 114, 101, 101, 100, 32, 105, 115, 32, 109, 101, 110, 116, 105, 111, 110, 101, 100, 32, 105, 110, 32, 73, 99, 101, 108, 97, 110, 100, 105, 99, 32, 108, 105, 116, 101, 114, 97, 116, 117, 114, 256, 97, 110, 100, 32, 104, 105, 115, 116, 111, 114, 105, 99, 97, 108, 32, 114, 101, 99, 111, 114, 100, 115, 46, 32, 84, 104, 101, 121, 32, 97, 114, 256, 108, 111, 110, 103, 45, 108, 105, 118, 101, 100, 44, 32, 104, 97, 114, 100, 121, 44, 32, 97, 110, 100, 32, 104, 97, 118, 256, 102, 101, 119, 32, 100, 105, 115, 101, 97, 115, 101, 115, 32, 105, 110, 32, 116, 104, 101, 105, 114, 32, 99, 111, 117, 110, 116, 114, 121, 46, 32, 73, 110, 32, 97, 100, 100, 105, 116, 105, 111, 110, 32, 116, 111, 32, 116, 104, 256, 103, 97, 105, 116, 115, 32, 116, 121, 112, 105, 99, 97, 108, 32, 111, 102, 32, 111, 116, 104, 101, 114, 32, 104, 111, 114, 115, 256, 98, 114, 101, 101, 100, 115, 44, 32, 109, 97, 110, 121, 32, 73, 99, 101, 108, 97, 110, 100, 105, 99, 32, 104, 111, 114, 115, 101, 115, 32, 99, 97, 110, 32, 97, 108, 115, 111, 32, 100, 111, 32, 116, 104, 256, 116, 195, 182, 108, 116, 32, 40, 112, 105, 99, 116, 117, 114, 101, 100, 41, 32, 97, 110, 100, 32, 116, 104, 256, 102, 108, 121, 105, 110, 103, 32, 112, 97, 99, 101, 46, 32, 84, 104, 256, 111, 110, 108, 121, 32, 98, 114, 101, 101, 100, 32, 111, 102, 32, 104, 111, 114, 115, 256, 105, 110, 32, 73, 99, 101, 108, 97, 110, 100, 44, 32, 115, 105, 122, 97, 98, 108, 256, 112, 111, 112, 117, 108, 97, 116, 105, 111, 110, 115, 32, 101, 120, 105, 115, 116, 32, 105, 110, 32, 69, 117, 114, 111, 112, 256, 97, 110, 100, 32, 78, 111, 114, 116, 104, 32, 65, 109, 101, 114, 105, 99, 97, 46, 32, 84, 104, 101, 121, 32, 97, 114, 256, 117, 115, 101, 100, 32, 102, 111, 114, 32, 115, 104, 101, 101, 112, 104, 101, 114, 100, 105, 110, 103, 32, 119, 111, 114, 107, 32, 105, 110, 32, 73, 99, 101, 108, 97, 110, 100, 44, 32, 108, 101, 105, 115, 117, 114, 101, 44, 32, 115, 104, 111, 119, 105, 110, 103, 44, 32, 97, 110, 100, 32, 114, 97, 99, 105, 110, 103, 46, 32, 83, 101, 108, 101, 99, 116, 105, 118, 256, 98, 114, 101, 101, 100, 105, 110, 103, 32, 97, 110, 100, 32, 110, 97, 116, 117, 114, 97, 108, 32, 115, 101, 108, 101, 99, 116, 105, 111, 110, 32, 119, 105, 116, 104, 32, 116, 104, 256, 73, 99, 101, 108, 97, 110, 100, 105, 99, 32, 99, 108, 105, 109, 97, 116, 256, 100, 101, 118, 101, 108, 111, 112, 101, 100, 32, 116, 104, 101, 109, 32, 105, 110, 116, 111, 32, 116, 104, 101, 105, 114, 32, 99, 117, 114, 114, 101, 110, 116, 32, 102, 111, 114, 109, 46, 32, 73, 110, 32, 116, 104, 256, 49, 55, 56, 48, 115, 44, 32, 109, 117, 99, 104, 32, 111, 102, 32, 116, 104, 256, 98, 114, 101, 101, 100, 32, 119, 97, 115, 32, 107, 105, 108, 108, 101, 100, 32, 97, 102, 116, 101, 114, 32, 97, 32, 118, 111, 108, 99, 97, 110, 105, 99, 32, 101, 114, 117, 112, 116, 105, 111, 110, 32, 97, 116, 32, 76, 97, 107, 105, 46, 32, 84, 104, 256, 102, 105, 114, 115, 116, 32, 98, 114, 101, 101, 100, 32, 115, 111, 99, 105, 101, 116, 121, 32, 102, 111, 114, 32, 116, 104, 256, 73, 99, 101, 108, 97, 110, 100, 105, 99, 32, 104, 111, 114, 115, 256, 119, 97, 115, 32, 99, 114, 101, 97, 116, 101, 100, 32, 105, 110, 32, 73, 99, 101, 108, 97, 110, 100, 32, 105, 110, 32, 49, 57, 48, 52, 59, 32, 116, 104, 256, 98, 114, 101, 101, 100, 32, 105, 115, 32, 110, 111, 119, 32, 114, 101, 112, 114, 101, 115, 101, 110, 116, 101, 100, 32, 98, 121, 32, 111, 114, 103, 97, 110, 105, 122, 97, 116, 105, 111, 110, 115, 32, 105, 110, 32, 49, 57, 32, 110, 97, 116, 105, 111, 110, 115, 44, 32, 117, 110, 100, 101, 114, 32, 116, 104, 256, 97, 117, 115, 112, 105, 99, 101, 115, 32, 111, 102, 32, 116, 104, 256, 73, 110, 116, 101, 114, 110, 97, 116, 105, 111, 110, 97, 108, 32, 70, 101, 100, 101, 114, 97, 116, 105, 111, 110, 32, 111, 102, 32, 73, 99, 101, 108, 97, 110, 100, 105, 99, 32, 72, 111, 114, 115, 256, 65, 115, 115, 111, 99, 105, 97, 116, 105, 111, 110, 115, 46]\n",
      "length: 972\n"
     ]
    }
   ],
   "source": [
    "def merge(ids,pair,idx):\n",
    "    newids = []\n",
    "    i = 0\n",
    "    while i < len(ids):\n",
    "        if i < len(ids)-1 and ids[i]==pair[0] and ids[i+1]==pair[1]:\n",
    "            newids.append(idx)\n",
    "            i += 2\n",
    "        else:\n",
    "            newids.append(ids[i])\n",
    "            i += 1\n",
    "    return newids\n",
    "    \n",
    "tokens2 = merge(tokens, top_pair, 256)\n",
    "print(tokens2)\n",
    "print(\"length:\", len(tokens2))"
   ]
  },
  {
   "cell_type": "code",
   "execution_count": 10,
   "metadata": {},
   "outputs": [],
   "source": [
    "with open('Islandic_Horses.txt', 'r', encoding='utf-8') as f:\n",
    "    text = f.read()\n",
    "\n",
    "tokens = text.encode(\"utf-8\") # raw bytes\n",
    "tokens = list(map(int, tokens)) # convert to a list of integers in range 0..255 for convenience"
   ]
  },
  {
   "cell_type": "code",
   "execution_count": 11,
   "metadata": {},
   "outputs": [
    {
     "name": "stdout",
     "output_type": "stream",
     "text": [
      "merging (101, 32) to 256 (frequency 474)\n",
      "merging (97, 110) to 257 (frequency 343)\n",
      "merging (115, 32) to 258 (frequency 335)\n",
      "merging (100, 32) to 259 (frequency 328)\n",
      "merging (116, 104) to 260 (frequency 299)\n",
      "merging (105, 110) to 261 (frequency 254)\n",
      "merging (111, 114) to 262 (frequency 238)\n",
      "merging (101, 114) to 263 (frequency 225)\n",
      "merging (44, 32) to 264 (frequency 187)\n",
      "merging (116, 32) to 265 (frequency 173)\n",
      "merging (114, 101) to 266 (frequency 163)\n",
      "merging (260, 256) to 267 (frequency 160)\n",
      "merging (97, 108) to 268 (frequency 150)\n",
      "merging (257, 259) to 269 (frequency 147)\n",
      "merging (111, 110) to 270 (frequency 144)\n",
      "merging (101, 259) to 271 (frequency 136)\n",
      "merging (101, 108) to 272 (frequency 129)\n",
      "merging (101, 110) to 273 (frequency 125)\n",
      "merging (97, 114) to 274 (frequency 117)\n",
      "merging (116, 105) to 275 (frequency 114)\n"
     ]
    }
   ],
   "source": [
    "def get_stats(ids):\n",
    "    stats = {}\n",
    "    for pair in zip(ids, ids[1:]):\n",
    "        stats[pair] = stats.get(pair, 0) + 1\n",
    "    return stats\n",
    "\n",
    "def merge(ids,pair,idx):\n",
    "    newids = []\n",
    "    i = 0\n",
    "    while i < len(ids):\n",
    "        if i < len(ids)-1 and ids[i]==pair[0] and ids[i+1]==pair[1]:\n",
    "            newids.append(idx)\n",
    "            i += 2\n",
    "        else:\n",
    "            newids.append(ids[i])\n",
    "            i += 1\n",
    "    return newids\n",
    "\n",
    "vocab_size = 276\n",
    "num_merges = vocab_size - 256\n",
    "ids = list(tokens)\n",
    "\n",
    "merges = {}\n",
    "for i in range(num_merges):\n",
    "    stats = get_stats(ids)\n",
    "    top_pair = max(stats, key=stats.get)\n",
    "    idx = 256 + i\n",
    "    print(f\"merging {top_pair} to {idx} (frequency {stats[top_pair]})\")\n",
    "    ids = merge(ids, top_pair, idx)\n",
    "    merges[top_pair] = idx"
   ]
  },
  {
   "cell_type": "code",
   "execution_count": 13,
   "metadata": {},
   "outputs": [
    {
     "name": "stdout",
     "output_type": "stream",
     "text": [
      "tokens length: 17527\n",
      "ids length: 13286\n",
      "compression ratio: 1.32X\n"
     ]
    }
   ],
   "source": [
    "print(\"tokens length:\", len(tokens))\n",
    "print(\"ids length:\", len(ids))\n",
    "print(f\"compression ratio: {len(tokens) / len(ids):.2f}X\")"
   ]
  },
  {
   "cell_type": "markdown",
   "metadata": {},
   "source": [
    "Note, the Tokenizer is a completely separate, independent module from the LLM. It has its own training dataset of text (which could be different from that of the LLM), on which you train the vocabulary using the Byte Pair Encoding (BPE) algorithm. It then translates back and forth between raw text and sequences of tokens. The LLM later only ever sees the tokens and never directly deals with any text."
   ]
  },
  {
   "cell_type": "markdown",
   "metadata": {},
   "source": [
    "### decoding"
   ]
  },
  {
   "cell_type": "code",
   "execution_count": 19,
   "metadata": {},
   "outputs": [
    {
     "name": "stdout",
     "output_type": "stream",
     "text": [
      "e \n"
     ]
    }
   ],
   "source": [
    "vocab = {idx: bytes([idx]) for idx in range(256)}\n",
    "for (p0,p1), idx in merges.items():\n",
    "    vocab[idx] = vocab[p0] + vocab[p1]\n",
    "    \n",
    "def decode(ids):\n",
    "    tokens = b\"\".join([vocab[i] for i in ids])\n",
    "    return tokens.decode(\"utf-8\", errors=\"replace\")\n",
    "\n",
    "print(decode([256]))"
   ]
  },
  {
   "cell_type": "code",
   "execution_count": 29,
   "metadata": {},
   "outputs": [
    {
     "name": "stdout",
     "output_type": "stream",
     "text": [
      "[104]\n"
     ]
    }
   ],
   "source": [
    "def encode(text):\n",
    "    tokens = text.encode(\"utf-8\")\n",
    "    for pair in merges:\n",
    "        tokens = merge(tokens, pair, merges[pair])\n",
    "    return tokens\n",
    "\n",
    "print(encode(\"hello world!\"))"
   ]
  },
  {
   "cell_type": "code",
   "execution_count": 24,
   "metadata": {},
   "outputs": [
    {
     "name": "stdout",
     "output_type": "stream",
     "text": [
      "hello world!\n"
     ]
    }
   ],
   "source": [
    "print(decode(encode(\"hello world!\")))"
   ]
  },
  {
   "cell_type": "code",
   "execution_count": 32,
   "metadata": {},
   "outputs": [
    {
     "name": "stdout",
     "output_type": "stream",
     "text": [
      "The Islandpferde-Reiter- und Züchterverband e.V. (IPZV e.V.) is an organisation for the German riders and breeders of Icelandic horses and the association of all Icelandic horse-clubs of Germany. The IPZV was founded in 1958 and is - with more than 25.000 members and about 70.000 registered horses in Germany - the biggest association of Icelandic horses worldwide. The IPZV is member of the International Icelandic horse Federation. (FEIF).\n"
     ]
    }
   ],
   "source": [
    "val_text = \"The Islandpferde-Reiter- und Züchterverband e.V. (IPZV e.V.) is an organisation for the German riders and breeders of Icelandic horses and the association of all Icelandic horse-clubs of Germany. The IPZV was founded in 1958 and is - with more than 25.000 members and about 70.000 registered horses in Germany - the biggest association of Icelandic horses worldwide. The IPZV is member of the International Icelandic horse Federation. (FEIF).\"\n",
    "print(decode(encode(val_text)))"
   ]
  },
  {
   "cell_type": "markdown",
   "metadata": {},
   "source": [
    "**Forced splits using regex patterns (GPT series)**"
   ]
  },
  {
   "cell_type": "code",
   "execution_count": 34,
   "metadata": {},
   "outputs": [],
   "source": [
    "import regex as re"
   ]
  },
  {
   "cell_type": "code",
   "execution_count": 37,
   "metadata": {},
   "outputs": [
    {
     "name": "stdout",
     "output_type": "stream",
     "text": [
      "['Hello', \"'ve\", ' world', '123', ' how', \"'s\", ' are', ' you', '!!!?']\n"
     ]
    }
   ],
   "source": [
    "gpt2pat = re.compile(r\"\"\"'s|'t|'re|'ve|'m|'ll|'d| ?\\p{L}+| ?\\p{N}+| ?[^\\s\\p{L}\\p{N}]+|\\s+(?!\\S)|\\s+\"\"\")\n",
    "\n",
    "print(re.findall(gpt2pat, \"Hello've world123 how's are you!!!?\"))"
   ]
  },
  {
   "cell_type": "code",
   "execution_count": null,
   "metadata": {},
   "outputs": [],
   "source": []
  }
 ],
 "metadata": {
  "kernelspec": {
   "display_name": "TorchEnv",
   "language": "python",
   "name": "python3"
  },
  "language_info": {
   "codemirror_mode": {
    "name": "ipython",
    "version": 3
   },
   "file_extension": ".py",
   "mimetype": "text/x-python",
   "name": "python",
   "nbconvert_exporter": "python",
   "pygments_lexer": "ipython3",
   "version": "3.11.0"
  }
 },
 "nbformat": 4,
 "nbformat_minor": 2
}
